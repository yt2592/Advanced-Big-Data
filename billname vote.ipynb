{
 "cells": [
  {
   "cell_type": "code",
   "execution_count": 13,
   "metadata": {},
   "outputs": [
    {
     "name": "stdout",
     "output_type": "stream",
     "text": [
      "NO: 2    BILL NAME: 21st Century Green High-Performing Public School Facilities Act.csv         Vote: Yes\n",
      "NO: 107    BILL NAME: Dam Rehabilitation and Repair Act of 2007.csv         Vote: Yes\n",
      "NO: 123    BILL NAME: Departments of Labor, Health and Human Services, and Education,.csv         Vote: Yes\n",
      "NO: 134    BILL NAME: DTV Delay Act.csv         Vote: Yes\n",
      "NO: 145    BILL NAME: Emergency Assistance for Secure Elections Act of 2008.csv         Vote: Yes\n",
      "NO: 147    BILL NAME: Emergency Extended Unemployment Compensation Act of 2008.csv         Vote: Yes\n",
      "NO: 149    BILL NAME: Emergency Unemployment Compensation Continuation Act.csv         Vote: Yes\n",
      "NO: 152    BILL NAME: Employment Non-Discrimination Act of 2007.csv         Vote: Yes\n",
      "NO: 162    BILL NAME: FAA Reauthorization Act of 2007.csv         Vote: Yes\n",
      "NO: 174    BILL NAME: Federal Employees Paid Parental Leave Act of 2009.csv         Vote: Yes\n",
      "NO: 189    BILL NAME: Food Safety Enhancement Act of 2009.csv         Vote: Yes\n",
      "NO: 201    BILL NAME: Gulf Coast Hurricane Housing Recovery Act of 2007.csv         Vote: Yes\n",
      "NO: 220    BILL NAME: Homeowners' Defense Act of 2007.csv         Vote: Yes\n",
      "NO: 251    BILL NAME: Job Creation and Unemployment Relief Act of 2008.csv         Vote: Yes\n",
      "NO: 254    BILL NAME: Jubilee Act for Responsible Lending and Expanded Debt Cancellat.csv         Vote: Yes\n",
      "NO: 257    BILL NAME: Keeping All Students Safe Act.csv         Vote: Yes\n",
      "NO: 266    BILL NAME: Local Law Enforcement Hate Crimes Prevention Act of 2007.csv         Vote: Yes\n",
      "NO: 349    BILL NAME: Passenger Rail Investment and Improvement Act of 2008.csv         Vote: Yes\n",
      "NO: 378    BILL NAME: Rail and Public Transportation Security Act of 2007.csv         Vote: Yes\n",
      "NO: 384    BILL NAME: RECOVER Act.csv         Vote: Yes\n",
      "NO: 400    BILL NAME: Restricting Indian Gaming to Homelands of Tribes Act of 2006.csv         Vote: No\n",
      "NO: 449    BILL NAME: Stop Child Abuse in Residential Programs for Teens Act of 2009.csv         Vote: Yes\n",
      "NO: 460    BILL NAME: TARP Reform and Accountability Act of 2009.csv         Vote: Yes\n",
      "NO: 464    BILL NAME: Taxpayer Assistance and Simplification Act of 2008.csv         Vote: Yes\n"
     ]
    }
   ],
   "source": [
    "import pandas as pd\n",
    "import matplotlib.pyplot as plt\n",
    "import glob\n",
    "import csv\n",
    "path = r'C:\\Users\\tiany\\Documents\\Columbia University\\EE6895 big data\\bill\\110'\n",
    "allFiles = glob.glob(path + \"/*.csv\")\n",
    "N = [2,\n",
    "107,\n",
    "123,\n",
    "134,\n",
    "145,\n",
    "147,\n",
    "149,\n",
    "152,\n",
    "162,\n",
    "174,\n",
    "189,\n",
    "201,\n",
    "220,\n",
    "251,\n",
    "254,\n",
    "257,\n",
    "266,\n",
    "349,\n",
    "378,\n",
    "384,\n",
    "400,\n",
    "449,\n",
    "460,\n",
    "464]\n",
    "for i in range(len(N)):\n",
    "    df = pd.read_csv(allFiles[N[i]],  encoding='latin-1',low_memory=False)\n",
    "    df['Contribution Amount'] = df['Contribution Amount'].str.replace('$','')\n",
    "    df['Legislator'] = df['Legislator'].str.replace('\"..\"','')\n",
    "    #df['Contribution Amount'].str.replace('$','',inplace=True)\n",
    "    df['Contribution Amount'] = df['Contribution Amount'].astype(float)\n",
    "    name = df.columns.values.tolist()\n",
    "    v = name[3]\n",
    "    n = name[-4]\n",
    "    df = df.rename(columns={n: 'Interest Group Position',v:'Vote'})\n",
    "    clean = df.drop(['Contribution Type','Presidential','Contribution Date','Contributor','Contributor Occupation','Contributor Interest Group Code','Contributor City','Contributor State','Contributor Zip','Contributor Employer','Contributor Interest Group'],axis=1)\n",
    "    count = clean.drop_duplicates(subset=['Legislator', 'Party', 'Vote'])\n",
    "    count.set_index('Legislator', inplace=True)\n",
    "    print('NO:', N[i],'   BILL NAME:', allFiles[N[i]][70:],'        Vote:', count.loc['Lincoln Diaz-Balart']['Vote'])"
   ]
  },
  {
   "cell_type": "code",
   "execution_count": 68,
   "metadata": {},
   "outputs": [
    {
     "data": {
      "text/plain": [
       "6"
      ]
     },
     "execution_count": 68,
     "metadata": {},
     "output_type": "execute_result"
    }
   ],
   "source": [
    "len(N)"
   ]
  },
  {
   "cell_type": "code",
   "execution_count": null,
   "metadata": {
    "collapsed": true
   },
   "outputs": [],
   "source": []
  }
 ],
 "metadata": {
  "kernelspec": {
   "display_name": "Python 3",
   "language": "python",
   "name": "python3"
  },
  "language_info": {
   "codemirror_mode": {
    "name": "ipython",
    "version": 3
   },
   "file_extension": ".py",
   "mimetype": "text/x-python",
   "name": "python",
   "nbconvert_exporter": "python",
   "pygments_lexer": "ipython3",
   "version": "3.6.1"
  }
 },
 "nbformat": 4,
 "nbformat_minor": 2
}

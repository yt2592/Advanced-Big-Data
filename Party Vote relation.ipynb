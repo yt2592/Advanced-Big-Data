{
 "cells": [
  {
   "cell_type": "code",
   "execution_count": 283,
   "metadata": {},
   "outputs": [],
   "source": [
    "import pandas as pd\n",
    "import matplotlib.pyplot as plt\n",
    "import glob\n",
    "import csv\n",
    "\n",
    "allFiles = glob.glob(\"bill/*.csv\")\n",
    "#allFiles"
   ]
  },
  {
   "cell_type": "code",
   "execution_count": 314,
   "metadata": {
    "scrolled": true
   },
   "outputs": [
    {
     "name": "stdout",
     "output_type": "stream",
     "text": [
      "bill\\527 Reform Act of 2006.csv\n",
      "bill\\Advanced Telecommunications and Opportunities Reform Act.csv\n",
      "bill\\American-Made Energy and Good Jobs Act.csv\n",
      "bill\\Animal Enterprise Terrorism Act.csv\n",
      "bill\\Bay Area Regional Water Recycling Program Expansion Act of 2009.csv\n",
      "bill\\Berry Amendment Extension Act.csv\n",
      "bill\\Bureau of Alcohol, Tobacco, Firearms, and Explosives (BATFE) Mo.csv\n",
      "bill\\Calling Card Consumer Protection Act.csv\n",
      "bill\\CALM Act.csv\n",
      "bill\\CAPTA Reauthorization Act of 2010.csv\n",
      "bill\\Captive Primate Safety Act.csv\n",
      "bill\\Caregivers and Veterans Omnibus Health Services Act of 2010.csv\n",
      "bill\\Cascadia Marine Trail Study Act.csv\n",
      "bill\\Cell Phone Contraband Act of 2010.csv\n",
      "bill\\Census Oversight Efficiency and Management Reform Act of 2010.csv\n",
      "bill\\Chesapeake Bay Accountability and Recovery Act of 2009.csv\n",
      "bill\\Chiropractic Care Available to All Veterans Act.csv\n",
      "bill\\Class Action Fairness Act of 2005.csv\n",
      "bill\\Comprehensive Immigration Reform Act of 2006.csv\n",
      "bill\\Department of the Interior, Environment, and Related Agencies A.csv\n",
      "bill\\Internet Gambling Prohibition and Enforcement Act.csv\n",
      "bill\\National Uniformity for Food Act of 2005.csv\n",
      "bill\\New Hampshire Wilderness Act of 2006.csv\n",
      "bill\\Occupational Safety and Health Independent Review of OSHA Citat.csv\n",
      "bill\\Occupational Safety and Health Review Commission Efficiency Act.csv\n",
      "bill\\Occupational Safety and Health Small Employer Access to Justice.csv\n",
      "bill\\Pension Security and Transparency Act of 2005.csv\n",
      "bill\\Permanent Estate Tax Relief Act of 2006.csv\n",
      "bill\\Respect for America_s Fallen Heroes Act.csv\n",
      "bill\\Restricting Indian Gaming to Homelands of Tribes Act of 2006.csv\n",
      "bill\\Small Business Health Fairness Act of 2005.csv\n",
      "bill\\To Amend Title 49, United States Code, to Modify Bargaining Req.csv\n",
      "bill\\To Authorize the Extension of Nondiscriminatory Treatment (Norm.csv\n",
      "bill\\Transportation, Treasury, Housing and Urban Development, the Ju.csv\n",
      "bill\\United States-Oman Free Trade Agreement Implementation Act.csv\n"
     ]
    }
   ],
   "source": [
    "import pandas as pd\n",
    "import matplotlib.pyplot as plt\n",
    "import glob\n",
    "import csv\n",
    "#remove\n",
    "import os\n",
    "\n",
    "allFiles = glob.glob(\"bill/*.csv\")\n",
    "#allFiles\n",
    "for i in range(len(allFiles)):\n",
    "    try:\n",
    "        df = pd.read_csv(allFiles[i],  encoding='latin-1',low_memory=False)\n",
    "        print(allFiles[i])\n",
    "        df['Contribution Amount'] = df['Contribution Amount'].str.replace('$','')\n",
    "        #df['Contribution Amount'].str.replace('$','',inplace=True)\n",
    "        df['Contribution Amount'] = df['Contribution Amount'].astype(float)\n",
    "        name = df.columns.values.tolist()\n",
    "        v = name[3]\n",
    "        n = name[-4]\n",
    "        df = df.rename(columns={n: 'Interest Group Position',v:'Vote'})\n",
    "        clean = df.drop(['Represents','Contribution Type','Presidential','Contribution Date','Contributor','Contributor Occupation','Contributor Interest Group Code','Contributor City','Contributor State','Contributor Zip','Contributor Employer','Contributor Interest Group'],axis=1)\n",
    "        g = clean.groupby(['Party','Interest Group Position']).sum()\n",
    "        #h = clean.groupby(['Party','Interest Group Position']).sum()\n",
    "        #g.reset_index(inplace = True)\n",
    "        #g\n",
    "        newclean =  df.drop(['Represents','Contribution Type','Presidential','Contribution Amount','Contribution Date','Contributor','Contributor Occupation','Contributor Interest Group Code','Contributor City','Contributor State','Contributor Zip','Contributor Employer','Contributor Interest Group'],axis=1)\n",
    "        dd = newclean.drop_duplicates(subset=['Legislator', 'Party', 'Vote'])\n",
    "        a = (dd['Party'][dd['Vote']=='No']=='Democrat').sum()\n",
    "        b = (dd['Party'][dd['Vote']=='Not Voting']=='Democrat').sum()\n",
    "        c = (dd['Party'][dd['Vote']=='Yes']=='Democrat').sum()\n",
    "        d = (dd['Party'][dd['Vote']=='No']=='Independent').sum()\n",
    "        e = (dd['Party'][dd['Vote']=='Not Voting']=='Independent').sum()\n",
    "        f = (dd['Party'][dd['Vote']=='Yes']=='Independent').sum()\n",
    "        j = (dd['Party'][dd['Vote']=='No']=='Republican').sum()\n",
    "        k = (dd['Party'][dd['Vote']=='Not Voting']=='Republican').sum()\n",
    "        l = (dd['Party'][dd['Vote']=='Yes']=='Republican').sum()\n",
    "\n",
    "        #dataframe\n",
    "        pd.set_option('display.precision',15)\n",
    "        pd.DataFrame({'x':[.000000000000001]})\n",
    "\n",
    "        arrays = [['Democrat', 'Democrat','Democrat', 'Republican','Republican', 'Republican'],\n",
    "                  ['Oppose','', 'Support', 'Oppose','', 'Support']]\n",
    "        tuples = list(zip(*arrays))\n",
    "        index = pd.MultiIndex.from_tuples(tuples, names=['Party', 'Interest Group Position'])\n",
    "        column = ['Contribution Amount', 'Vote', 'Count']\n",
    "        s = pd.DataFrame(index=index, columns=column)\n",
    "        votes = ['No','Not Voting','Yes','No','Not Voting','Yes']\n",
    "        count = [a,b,c,j,k,l]\n",
    "        s['Vote'] = votes\n",
    "        s['Count'] = count\n",
    "        newframe = s.fillna(g)\n",
    "        newframe.fillna(0)\n",
    "    except:\n",
    "        os.remove(allFiles[i])"
   ]
  },
  {
   "cell_type": "code",
   "execution_count": 244,
   "metadata": {},
   "outputs": [
    {
     "data": {
      "text/plain": [
       "0"
      ]
     },
     "execution_count": 244,
     "metadata": {},
     "output_type": "execute_result"
    }
   ],
   "source": [
    "a"
   ]
  },
  {
   "cell_type": "code",
   "execution_count": null,
   "metadata": {
    "collapsed": true
   },
   "outputs": [],
   "source": []
  }
 ],
 "metadata": {
  "kernelspec": {
   "display_name": "Python 3",
   "language": "python",
   "name": "python3"
  },
  "language_info": {
   "codemirror_mode": {
    "name": "ipython",
    "version": 3
   },
   "file_extension": ".py",
   "mimetype": "text/x-python",
   "name": "python",
   "nbconvert_exporter": "python",
   "pygments_lexer": "ipython3",
   "version": "3.6.1"
  }
 },
 "nbformat": 4,
 "nbformat_minor": 2
}

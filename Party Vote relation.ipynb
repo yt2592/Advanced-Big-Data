{
 "cells": [
  {
   "cell_type": "code",
   "execution_count": 283,
   "metadata": {},
   "outputs": [],
   "source": [
    "import pandas as pd\n",
    "import matplotlib.pyplot as plt\n",
    "import glob\n",
    "import csv\n",
    "\n",
    "allFiles = glob.glob(\"bill/*.csv\")\n",
    "#allFiles"
   ]
  },
  {
   "cell_type": "code",
   "execution_count": 301,
   "metadata": {
    "scrolled": true
   },
   "outputs": [
    {
     "name": "stdout",
     "output_type": "stream",
     "text": [
      "bill\\21st Century Green High-Performing Public School Facilities Act.csv\n",
      "bill\\A Bill to Amend the Federal Water Pollution Control Act to Clar.csv\n",
      "bill\\Airline Flight Crew Technical Corrections Act.csv\n",
      "bill\\ALERT Drivers Act.csv\n"
     ]
    },
    {
     "name": "stderr",
     "output_type": "stream",
     "text": [
      "C:\\Users\\tiany\\Anaconda3\\lib\\site-packages\\pandas\\core\\ops.py:798: FutureWarning: elementwise comparison failed; returning scalar instead, but in the future will perform elementwise comparison\n",
      "  result = getattr(x, name)(y)\n"
     ]
    },
    {
     "ename": "TypeError",
     "evalue": "invalid type comparison",
     "output_type": "error",
     "traceback": [
      "\u001b[1;31m---------------------------------------------------------------------------\u001b[0m",
      "\u001b[1;31mTypeError\u001b[0m                                 Traceback (most recent call last)",
      "\u001b[1;32m<ipython-input-301-47456beefe0e>\u001b[0m in \u001b[0;36m<module>\u001b[1;34m()\u001b[0m\n\u001b[0;32m     23\u001b[0m     \u001b[0mnewclean\u001b[0m \u001b[1;33m=\u001b[0m  \u001b[0mdf\u001b[0m\u001b[1;33m.\u001b[0m\u001b[0mdrop\u001b[0m\u001b[1;33m(\u001b[0m\u001b[1;33m[\u001b[0m\u001b[1;34m'Represents'\u001b[0m\u001b[1;33m,\u001b[0m\u001b[1;34m'Contribution Type'\u001b[0m\u001b[1;33m,\u001b[0m\u001b[1;34m'Presidential'\u001b[0m\u001b[1;33m,\u001b[0m\u001b[1;34m'Contribution Amount'\u001b[0m\u001b[1;33m,\u001b[0m\u001b[1;34m'Contribution Date'\u001b[0m\u001b[1;33m,\u001b[0m\u001b[1;34m'Contributor'\u001b[0m\u001b[1;33m,\u001b[0m\u001b[1;34m'Contributor Occupation'\u001b[0m\u001b[1;33m,\u001b[0m\u001b[1;34m'Contributor Interest Group Code'\u001b[0m\u001b[1;33m,\u001b[0m\u001b[1;34m'Contributor City'\u001b[0m\u001b[1;33m,\u001b[0m\u001b[1;34m'Contributor State'\u001b[0m\u001b[1;33m,\u001b[0m\u001b[1;34m'Contributor Zip'\u001b[0m\u001b[1;33m,\u001b[0m\u001b[1;34m'Contributor Employer'\u001b[0m\u001b[1;33m,\u001b[0m\u001b[1;34m'Contributor Interest Group'\u001b[0m\u001b[1;33m]\u001b[0m\u001b[1;33m,\u001b[0m\u001b[0maxis\u001b[0m\u001b[1;33m=\u001b[0m\u001b[1;36m1\u001b[0m\u001b[1;33m)\u001b[0m\u001b[1;33m\u001b[0m\u001b[0m\n\u001b[0;32m     24\u001b[0m     \u001b[0mdd\u001b[0m \u001b[1;33m=\u001b[0m \u001b[0mnewclean\u001b[0m\u001b[1;33m.\u001b[0m\u001b[0mdrop_duplicates\u001b[0m\u001b[1;33m(\u001b[0m\u001b[0msubset\u001b[0m\u001b[1;33m=\u001b[0m\u001b[1;33m[\u001b[0m\u001b[1;34m'Legislator'\u001b[0m\u001b[1;33m,\u001b[0m \u001b[1;34m'Party'\u001b[0m\u001b[1;33m,\u001b[0m \u001b[1;34m'Vote'\u001b[0m\u001b[1;33m]\u001b[0m\u001b[1;33m)\u001b[0m\u001b[1;33m\u001b[0m\u001b[0m\n\u001b[1;32m---> 25\u001b[1;33m     \u001b[0ma\u001b[0m \u001b[1;33m=\u001b[0m \u001b[1;33m(\u001b[0m\u001b[0mdd\u001b[0m\u001b[1;33m[\u001b[0m\u001b[1;34m'Party'\u001b[0m\u001b[1;33m]\u001b[0m\u001b[1;33m[\u001b[0m\u001b[0mdd\u001b[0m\u001b[1;33m[\u001b[0m\u001b[1;34m'Vote'\u001b[0m\u001b[1;33m]\u001b[0m\u001b[1;33m==\u001b[0m\u001b[1;34m'No'\u001b[0m\u001b[1;33m]\u001b[0m\u001b[1;33m==\u001b[0m\u001b[1;34m'Democrat'\u001b[0m\u001b[1;33m)\u001b[0m\u001b[1;33m.\u001b[0m\u001b[0msum\u001b[0m\u001b[1;33m(\u001b[0m\u001b[1;33m)\u001b[0m\u001b[1;33m\u001b[0m\u001b[0m\n\u001b[0m\u001b[0;32m     26\u001b[0m     \u001b[0mb\u001b[0m \u001b[1;33m=\u001b[0m \u001b[1;33m(\u001b[0m\u001b[0mdd\u001b[0m\u001b[1;33m[\u001b[0m\u001b[1;34m'Party'\u001b[0m\u001b[1;33m]\u001b[0m\u001b[1;33m[\u001b[0m\u001b[0mdd\u001b[0m\u001b[1;33m[\u001b[0m\u001b[1;34m'Vote'\u001b[0m\u001b[1;33m]\u001b[0m\u001b[1;33m==\u001b[0m\u001b[1;34m'Not Voting'\u001b[0m\u001b[1;33m]\u001b[0m\u001b[1;33m==\u001b[0m\u001b[1;34m'Democrat'\u001b[0m\u001b[1;33m)\u001b[0m\u001b[1;33m.\u001b[0m\u001b[0msum\u001b[0m\u001b[1;33m(\u001b[0m\u001b[1;33m)\u001b[0m\u001b[1;33m\u001b[0m\u001b[0m\n\u001b[0;32m     27\u001b[0m     \u001b[0mc\u001b[0m \u001b[1;33m=\u001b[0m \u001b[1;33m(\u001b[0m\u001b[0mdd\u001b[0m\u001b[1;33m[\u001b[0m\u001b[1;34m'Party'\u001b[0m\u001b[1;33m]\u001b[0m\u001b[1;33m[\u001b[0m\u001b[0mdd\u001b[0m\u001b[1;33m[\u001b[0m\u001b[1;34m'Vote'\u001b[0m\u001b[1;33m]\u001b[0m\u001b[1;33m==\u001b[0m\u001b[1;34m'Yes'\u001b[0m\u001b[1;33m]\u001b[0m\u001b[1;33m==\u001b[0m\u001b[1;34m'Democrat'\u001b[0m\u001b[1;33m)\u001b[0m\u001b[1;33m.\u001b[0m\u001b[0msum\u001b[0m\u001b[1;33m(\u001b[0m\u001b[1;33m)\u001b[0m\u001b[1;33m\u001b[0m\u001b[0m\n",
      "\u001b[1;32mC:\\Users\\tiany\\Anaconda3\\lib\\site-packages\\pandas\\core\\ops.py\u001b[0m in \u001b[0;36mwrapper\u001b[1;34m(self, other, axis)\u001b[0m\n\u001b[0;32m    859\u001b[0m \u001b[1;33m\u001b[0m\u001b[0m\n\u001b[0;32m    860\u001b[0m             \u001b[1;32mwith\u001b[0m \u001b[0mnp\u001b[0m\u001b[1;33m.\u001b[0m\u001b[0merrstate\u001b[0m\u001b[1;33m(\u001b[0m\u001b[0mall\u001b[0m\u001b[1;33m=\u001b[0m\u001b[1;34m'ignore'\u001b[0m\u001b[1;33m)\u001b[0m\u001b[1;33m:\u001b[0m\u001b[1;33m\u001b[0m\u001b[0m\n\u001b[1;32m--> 861\u001b[1;33m                 \u001b[0mres\u001b[0m \u001b[1;33m=\u001b[0m \u001b[0mna_op\u001b[0m\u001b[1;33m(\u001b[0m\u001b[0mvalues\u001b[0m\u001b[1;33m,\u001b[0m \u001b[0mother\u001b[0m\u001b[1;33m)\u001b[0m\u001b[1;33m\u001b[0m\u001b[0m\n\u001b[0m\u001b[0;32m    862\u001b[0m             \u001b[1;32mif\u001b[0m \u001b[0mis_scalar\u001b[0m\u001b[1;33m(\u001b[0m\u001b[0mres\u001b[0m\u001b[1;33m)\u001b[0m\u001b[1;33m:\u001b[0m\u001b[1;33m\u001b[0m\u001b[0m\n\u001b[0;32m    863\u001b[0m                 raise TypeError('Could not compare %s type with Series' %\n",
      "\u001b[1;32mC:\\Users\\tiany\\Anaconda3\\lib\\site-packages\\pandas\\core\\ops.py\u001b[0m in \u001b[0;36mna_op\u001b[1;34m(x, y)\u001b[0m\n\u001b[0;32m    798\u001b[0m                     \u001b[0mresult\u001b[0m \u001b[1;33m=\u001b[0m \u001b[0mgetattr\u001b[0m\u001b[1;33m(\u001b[0m\u001b[0mx\u001b[0m\u001b[1;33m,\u001b[0m \u001b[0mname\u001b[0m\u001b[1;33m)\u001b[0m\u001b[1;33m(\u001b[0m\u001b[0my\u001b[0m\u001b[1;33m)\u001b[0m\u001b[1;33m\u001b[0m\u001b[0m\n\u001b[0;32m    799\u001b[0m                 \u001b[1;32mif\u001b[0m \u001b[0mresult\u001b[0m \u001b[1;32mis\u001b[0m \u001b[0mNotImplemented\u001b[0m\u001b[1;33m:\u001b[0m\u001b[1;33m\u001b[0m\u001b[0m\n\u001b[1;32m--> 800\u001b[1;33m                     \u001b[1;32mraise\u001b[0m \u001b[0mTypeError\u001b[0m\u001b[1;33m(\u001b[0m\u001b[1;34m\"invalid type comparison\"\u001b[0m\u001b[1;33m)\u001b[0m\u001b[1;33m\u001b[0m\u001b[0m\n\u001b[0m\u001b[0;32m    801\u001b[0m             \u001b[1;32mexcept\u001b[0m \u001b[0mAttributeError\u001b[0m\u001b[1;33m:\u001b[0m\u001b[1;33m\u001b[0m\u001b[0m\n\u001b[0;32m    802\u001b[0m                 \u001b[0mresult\u001b[0m \u001b[1;33m=\u001b[0m \u001b[0mop\u001b[0m\u001b[1;33m(\u001b[0m\u001b[0mx\u001b[0m\u001b[1;33m,\u001b[0m \u001b[0my\u001b[0m\u001b[1;33m)\u001b[0m\u001b[1;33m\u001b[0m\u001b[0m\n",
      "\u001b[1;31mTypeError\u001b[0m: invalid type comparison"
     ]
    }
   ],
   "source": [
    "import pandas as pd\n",
    "import matplotlib.pyplot as plt\n",
    "import glob\n",
    "import csv\n",
    "\n",
    "allFiles = glob.glob(\"bill/*.csv\")\n",
    "#allFiles\n",
    "for i in range(len(allFiles)):\n",
    "    df = pd.read_csv(allFiles[i],  encoding='latin-1',low_memory=False)\n",
    "    print(allFiles[i])\n",
    "    df['Contribution Amount'] = df['Contribution Amount'].str.replace('$','')\n",
    "    #df['Contribution Amount'].str.replace('$','',inplace=True)\n",
    "    df['Contribution Amount'] = df['Contribution Amount'].astype(float)\n",
    "    name = df.columns.values.tolist()\n",
    "    v = name[3]\n",
    "    n = name[-4]\n",
    "    df = df.rename(columns={n: 'Interest Group Position',v:'Vote'})\n",
    "    clean = df.drop(['Represents','Contribution Type','Presidential','Contribution Date','Contributor','Contributor Occupation','Contributor Interest Group Code','Contributor City','Contributor State','Contributor Zip','Contributor Employer','Contributor Interest Group'],axis=1)\n",
    "    g = clean.groupby(['Party','Interest Group Position']).sum()\n",
    "    #h = clean.groupby(['Party','Interest Group Position']).sum()\n",
    "    #g.reset_index(inplace = True)\n",
    "    #g\n",
    "    newclean =  df.drop(['Represents','Contribution Type','Presidential','Contribution Amount','Contribution Date','Contributor','Contributor Occupation','Contributor Interest Group Code','Contributor City','Contributor State','Contributor Zip','Contributor Employer','Contributor Interest Group'],axis=1)\n",
    "    dd = newclean.drop_duplicates(subset=['Legislator', 'Party', 'Vote'])\n",
    "    a = (dd['Party'][dd['Vote']=='No']=='Democrat').sum()\n",
    "    b = (dd['Party'][dd['Vote']=='Not Voting']=='Democrat').sum()\n",
    "    c = (dd['Party'][dd['Vote']=='Yes']=='Democrat').sum()\n",
    "    d = (dd['Party'][dd['Vote']=='No']=='Independent').sum()\n",
    "    e = (dd['Party'][dd['Vote']=='Not Voting']=='Independent').sum()\n",
    "    f = (dd['Party'][dd['Vote']=='Yes']=='Independent').sum()\n",
    "    j = (dd['Party'][dd['Vote']=='No']=='Republican').sum()\n",
    "    k = (dd['Party'][dd['Vote']=='Not Voting']=='Republican').sum()\n",
    "    l = (dd['Party'][dd['Vote']=='Yes']=='Republican').sum()\n",
    "\n",
    "    #dataframe\n",
    "    pd.set_option('display.precision',15)\n",
    "    pd.DataFrame({'x':[.000000000000001]})\n",
    "\n",
    "    arrays = [['Democrat', 'Democrat','Democrat', 'Republican','Republican', 'Republican'],\n",
    "              ['Oppose','', 'Support', 'Oppose','', 'Support']]\n",
    "    tuples = list(zip(*arrays))\n",
    "    index = pd.MultiIndex.from_tuples(tuples, names=['Party', 'Interest Group Position'])\n",
    "    column = ['Contribution Amount', 'Vote', 'Count']\n",
    "    s = pd.DataFrame(index=index, columns=column)\n",
    "    votes = ['No','Not Voting','Yes','No','Not Voting','Yes']\n",
    "    count = [a,b,c,j,k,l]\n",
    "    s['Vote'] = votes\n",
    "    s['Count'] = count\n",
    "    newframe = s.fillna(g)\n",
    "    newframe.fillna(0)"
   ]
  },
  {
   "cell_type": "code",
   "execution_count": 244,
   "metadata": {},
   "outputs": [
    {
     "data": {
      "text/plain": [
       "0"
      ]
     },
     "execution_count": 244,
     "metadata": {},
     "output_type": "execute_result"
    }
   ],
   "source": [
    "a"
   ]
  },
  {
   "cell_type": "code",
   "execution_count": null,
   "metadata": {
    "collapsed": true
   },
   "outputs": [],
   "source": []
  }
 ],
 "metadata": {
  "kernelspec": {
   "display_name": "Python 3",
   "language": "python",
   "name": "python3"
  },
  "language_info": {
   "codemirror_mode": {
    "name": "ipython",
    "version": 3
   },
   "file_extension": ".py",
   "mimetype": "text/x-python",
   "name": "python",
   "nbconvert_exporter": "python",
   "pygments_lexer": "ipython3",
   "version": "3.6.1"
  }
 },
 "nbformat": 4,
 "nbformat_minor": 2
}

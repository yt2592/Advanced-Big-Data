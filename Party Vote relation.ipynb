{
 "cells": [
  {
   "cell_type": "code",
   "execution_count": 128,
   "metadata": {},
   "outputs": [
    {
     "data": {
      "text/plain": [
       "['bill\\\\527 Reform Act of 2006.csv',\n",
       " 'bill\\\\Advanced Telecommunications and Opportunities Reform Act.csv',\n",
       " 'bill\\\\American-Made Energy and Good Jobs Act.csv',\n",
       " 'bill\\\\Bureau of Alcohol, Tobacco, Firearms, and Explosives (BATFE) Mo.csv',\n",
       " 'bill\\\\Class Action Fairness Act of 2005.csv',\n",
       " 'bill\\\\Comprehensive Immigration Reform Act of 2006.csv',\n",
       " 'bill\\\\Department of the Interior, Environment, and Related Agencies A.csv',\n",
       " 'bill\\\\Internet Gambling Prohibition and Enforcement Act.csv',\n",
       " 'bill\\\\National Uniformity for Food Act of 2005.csv',\n",
       " 'bill\\\\New Hampshire Wilderness Act of 2006.csv',\n",
       " 'bill\\\\Occupational Safety and Health Independent Review of OSHA Citat.csv',\n",
       " 'bill\\\\Occupational Safety and Health Review Commission Efficiency Act.csv',\n",
       " 'bill\\\\Occupational Safety and Health Small Employer Access to Justice.csv',\n",
       " 'bill\\\\Permanent Estate Tax Relief Act of 2006.csv',\n",
       " 'bill\\\\Restricting Indian Gaming to Homelands of Tribes Act of 2006.csv',\n",
       " 'bill\\\\Small Business Health Fairness Act of 2005.csv',\n",
       " 'bill\\\\To Amend Title 49, United States Code, to Modify Bargaining Req.csv',\n",
       " 'bill\\\\To Authorize the Extension of Nondiscriminatory Treatment (Norm.csv',\n",
       " 'bill\\\\Transportation, Treasury, Housing and Urban Development, the Ju.csv',\n",
       " 'bill\\\\United States-Oman Free Trade Agreement Implementation Act.csv']"
      ]
     },
     "execution_count": 128,
     "metadata": {},
     "output_type": "execute_result"
    }
   ],
   "source": [
    "import pandas as pd\n",
    "import matplotlib.pyplot as plt\n",
    "import glob\n",
    "import csv\n",
    "\n",
    "allFiles = glob.glob(\"bill/*.csv\")\n",
    "allFiles"
   ]
  },
  {
   "cell_type": "code",
   "execution_count": 236,
   "metadata": {
    "scrolled": true
   },
   "outputs": [
    {
     "data": {
      "text/html": [
       "<div>\n",
       "<style>\n",
       "    .dataframe thead tr:only-child th {\n",
       "        text-align: right;\n",
       "    }\n",
       "\n",
       "    .dataframe thead th {\n",
       "        text-align: left;\n",
       "    }\n",
       "\n",
       "    .dataframe tbody tr th {\n",
       "        vertical-align: top;\n",
       "    }\n",
       "</style>\n",
       "<table border=\"1\" class=\"dataframe\">\n",
       "  <thead>\n",
       "    <tr style=\"text-align: right;\">\n",
       "      <th></th>\n",
       "      <th></th>\n",
       "      <th>Contribution Amount</th>\n",
       "      <th>Vote</th>\n",
       "      <th>Count</th>\n",
       "    </tr>\n",
       "    <tr>\n",
       "      <th>Party</th>\n",
       "      <th>Interest Group Position</th>\n",
       "      <th></th>\n",
       "      <th></th>\n",
       "      <th></th>\n",
       "    </tr>\n",
       "  </thead>\n",
       "  <tbody>\n",
       "    <tr>\n",
       "      <th rowspan=\"3\" valign=\"top\">Democrat</th>\n",
       "      <th>Oppose</th>\n",
       "      <td>0.0</td>\n",
       "      <td>No</td>\n",
       "      <td>44</td>\n",
       "    </tr>\n",
       "    <tr>\n",
       "      <th></th>\n",
       "      <td>0.0</td>\n",
       "      <td>Not Voting</td>\n",
       "      <td>3</td>\n",
       "    </tr>\n",
       "    <tr>\n",
       "      <th>Support</th>\n",
       "      <td>75988.0</td>\n",
       "      <td>Yes</td>\n",
       "      <td>9</td>\n",
       "    </tr>\n",
       "    <tr>\n",
       "      <th rowspan=\"3\" valign=\"top\">Republican</th>\n",
       "      <th>Oppose</th>\n",
       "      <td>0.0</td>\n",
       "      <td>No</td>\n",
       "      <td>6</td>\n",
       "    </tr>\n",
       "    <tr>\n",
       "      <th></th>\n",
       "      <td>0.0</td>\n",
       "      <td>Not Voting</td>\n",
       "      <td>0</td>\n",
       "    </tr>\n",
       "    <tr>\n",
       "      <th>Support</th>\n",
       "      <td>153843.0</td>\n",
       "      <td>Yes</td>\n",
       "      <td>85</td>\n",
       "    </tr>\n",
       "  </tbody>\n",
       "</table>\n",
       "</div>"
      ],
      "text/plain": [
       "                                    Contribution Amount        Vote  Count\n",
       "Party      Interest Group Position                                        \n",
       "Democrat   Oppose                                   0.0          No     44\n",
       "                                                    0.0  Not Voting      3\n",
       "           Support                              75988.0         Yes      9\n",
       "Republican Oppose                                   0.0          No      6\n",
       "                                                    0.0  Not Voting      0\n",
       "           Support                             153843.0         Yes     85"
      ]
     },
     "execution_count": 236,
     "metadata": {},
     "output_type": "execute_result"
    }
   ],
   "source": [
    "df = pd.read_csv(allFiles[12],  encoding='latin-1',low_memory=False)\n",
    "df['Contribution Amount'] = df['Contribution Amount'].str.replace('$','')\n",
    "#df['Contribution Amount'].str.replace('$','',inplace=True)\n",
    "df['Contribution Amount'] = df['Contribution Amount'].astype(float)\n",
    "name = df.columns.values.tolist()\n",
    "v = name[3]\n",
    "n = name[-4]\n",
    "df = df.rename(columns={n: 'Interest Group Position',v:'Vote'})\n",
    "clean = df.drop(['Represents','Contribution Type','Presidential','Contribution Date','Contributor','Contributor Occupation','Contributor Interest Group Code','Contributor City','Contributor State','Contributor Zip','Contributor Employer','Contributor Interest Group'],axis=1)\n",
    "g = clean.groupby(['Party','Interest Group Position']).sum()\n",
    "#h = clean.groupby(['Party','Interest Group Position']).sum()\n",
    "#g.reset_index(inplace = True)\n",
    "#g\n",
    "newclean =  df.drop(['Represents','Contribution Type','Presidential','Contribution Amount','Contribution Date','Contributor','Contributor Occupation','Contributor Interest Group Code','Contributor City','Contributor State','Contributor Zip','Contributor Employer','Contributor Interest Group'],axis=1)\n",
    "dd = newclean.drop_duplicates(subset=['Legislator', 'Party', 'Vote'])\n",
    "a = (dd['Party'][dd['Vote']=='No']=='Democrat').sum()\n",
    "b = (dd['Party'][dd['Vote']=='Not Voting']=='Democrat').sum()\n",
    "c = (dd['Party'][dd['Vote']=='Yes']=='Democrat').sum()\n",
    "d = (dd['Party'][dd['Vote']=='No']=='Independent').sum()\n",
    "e = (dd['Party'][dd['Vote']=='Not Voting']=='Independent').sum()\n",
    "f = (dd['Party'][dd['Vote']=='Yes']=='Independent').sum()\n",
    "j = (dd['Party'][dd['Vote']=='No']=='Republican').sum()\n",
    "k = (dd['Party'][dd['Vote']=='Not Voting']=='Republican').sum()\n",
    "l = (dd['Party'][dd['Vote']=='Yes']=='Republican').sum()\n",
    "pd.set_option('display.precision',15)\n",
    "\n",
    "pd.DataFrame({'x':[.000000000000001]})\n",
    "arrays = [['Democrat', 'Democrat','Democrat', 'Republican','Republican', 'Republican'],\n",
    "          ['Oppose','', 'Support', 'Oppose','', 'Support']]\n",
    "tuples = list(zip(*arrays))\n",
    "index = pd.MultiIndex.from_tuples(tuples, names=['Party', 'Interest Group Position'])\n",
    "column = ['Contribution Amount', 'Vote', 'Count']\n",
    "s = pd.DataFrame(index=index, columns=column)\n",
    "votes = ['No','Not Voting','Yes','No','Not Voting','Yes']\n",
    "count = [a,b,c,j,k,l]\n",
    "s['Vote'] = votes\n",
    "s['Count'] = count\n",
    "newframe = s.fillna(g)\n",
    "newframe.fillna(0)"
   ]
  },
  {
   "cell_type": "code",
   "execution_count": null,
   "metadata": {
    "collapsed": true
   },
   "outputs": [],
   "source": []
  }
 ],
 "metadata": {
  "kernelspec": {
   "display_name": "Python 3",
   "language": "python",
   "name": "python3"
  },
  "language_info": {
   "codemirror_mode": {
    "name": "ipython",
    "version": 3
   },
   "file_extension": ".py",
   "mimetype": "text/x-python",
   "name": "python",
   "nbconvert_exporter": "python",
   "pygments_lexer": "ipython3",
   "version": "3.6.1"
  }
 },
 "nbformat": 4,
 "nbformat_minor": 2
}

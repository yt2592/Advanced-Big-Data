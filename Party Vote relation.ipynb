{
 "cells": [
  {
   "cell_type": "code",
   "execution_count": 12,
   "metadata": {
    "collapsed": true
   },
   "outputs": [],
   "source": [
    "import pandas as pd\n",
    "import matplotlib.pyplot as plt\n",
    "import glob\n",
    "import csv\n",
    "\n",
    "allFiles = glob.glob(\"bill/*.csv\")\n",
    "#allFiles"
   ]
  },
  {
   "cell_type": "code",
   "execution_count": 13,
   "metadata": {
    "scrolled": true
   },
   "outputs": [
    {
     "ename": "IndentationError",
     "evalue": "unexpected indent (<ipython-input-13-7d0e4aa65a20>, line 7)",
     "output_type": "error",
     "traceback": [
      "\u001b[1;36m  File \u001b[1;32m\"<ipython-input-13-7d0e4aa65a20>\"\u001b[1;36m, line \u001b[1;32m7\u001b[0m\n\u001b[1;33m    try:\u001b[0m\n\u001b[1;37m    ^\u001b[0m\n\u001b[1;31mIndentationError\u001b[0m\u001b[1;31m:\u001b[0m unexpected indent\n"
     ]
    }
   ],
   "source": [
    "#remove\n",
    "import os\n",
    "\n",
    "allFiles = glob.glob(\"bill/*.csv\")\n",
    "#allFiles\n",
    "#for i in range(len(allFiles)):\n",
    "    try:\n",
    "        df = pd.read_csv(allFiles[i],  encoding='latin-1',low_memory=False)\n",
    "        print(allFiles[i])\n",
    "        df['Contribution Amount'] = df['Contribution Amount'].str.replace('$','')\n",
    "        #df['Contribution Amount'].str.replace('$','',inplace=True)\n",
    "        df['Contribution Amount'] = df['Contribution Amount'].astype(float)\n",
    "        name = df.columns.values.tolist()\n",
    "        v = name[3]\n",
    "        n = name[-4]\n",
    "        df = df.rename(columns={n: 'Interest Group Position',v:'Vote'})\n",
    "        clean = df.drop(['Represents','Contribution Type','Presidential','Contribution Date','Contributor','Contributor Occupation','Contributor Interest Group Code','Contributor City','Contributor State','Contributor Zip','Contributor Employer','Contributor Interest Group'],axis=1)\n",
    "        g = clean.groupby(['Party','Interest Group Position']).sum()\n",
    "        #h = clean.groupby(['Party','Interest Group Position']).sum()\n",
    "        #g.reset_index(inplace = True)\n",
    "        #g\n",
    "        newclean =  df.drop(['Represents','Contribution Type','Presidential','Contribution Amount','Contribution Date','Contributor','Contributor Occupation','Contributor Interest Group Code','Contributor City','Contributor State','Contributor Zip','Contributor Employer','Contributor Interest Group'],axis=1)\n",
    "        dd = newclean.drop_duplicates(subset=['Legislator', 'Party', 'Vote'])\n",
    "        a = (dd['Party'][dd['Vote']=='No']=='Democrat').sum()\n",
    "        b = (dd['Party'][dd['Vote']=='Not Voting']=='Democrat').sum()\n",
    "        c = (dd['Party'][dd['Vote']=='Yes']=='Democrat').sum()\n",
    "        d = (dd['Party'][dd['Vote']=='No']=='Independent').sum()\n",
    "        e = (dd['Party'][dd['Vote']=='Not Voting']=='Independent').sum()\n",
    "        f = (dd['Party'][dd['Vote']=='Yes']=='Independent').sum()\n",
    "        j = (dd['Party'][dd['Vote']=='No']=='Republican').sum()\n",
    "        k = (dd['Party'][dd['Vote']=='Not Voting']=='Republican').sum()\n",
    "        l = (dd['Party'][dd['Vote']=='Yes']=='Republican').sum()\n",
    "\n",
    "        #dataframe\n",
    "        pd.set_option('display.precision',15)\n",
    "        pd.DataFrame({'x':[.000000000000001]})\n",
    "\n",
    "        arrays = [['Democrat', 'Democrat','Democrat', 'Republican','Republican', 'Republican'],\n",
    "                  ['Oppose','', 'Support', 'Oppose','', 'Support']]\n",
    "        tuples = list(zip(*arrays))\n",
    "        index = pd.MultiIndex.from_tuples(tuples, names=['Party', 'Interest Group Position'])\n",
    "        column = ['Contribution Amount', 'Vote', 'Count']\n",
    "        s = pd.DataFrame(index=index, columns=column)\n",
    "        votes = ['No','Not Voting','Yes','No','Not Voting','Yes']\n",
    "        count = [a,b,c,j,k,l]\n",
    "        s['Vote'] = votes\n",
    "        s['Count'] = count\n",
    "        newframe = s.fillna(g)\n",
    "        newframe.fillna(0)\n",
    "    except:\n",
    "        os.remove(allFiles[i])"
   ]
  },
  {
   "cell_type": "code",
   "execution_count": 11,
   "metadata": {
    "scrolled": true
   },
   "outputs": [
    {
     "data": {
      "text/html": [
       "<div>\n",
       "<style>\n",
       "    .dataframe thead tr:only-child th {\n",
       "        text-align: right;\n",
       "    }\n",
       "\n",
       "    .dataframe thead th {\n",
       "        text-align: left;\n",
       "    }\n",
       "\n",
       "    .dataframe tbody tr th {\n",
       "        vertical-align: top;\n",
       "    }\n",
       "</style>\n",
       "<table border=\"1\" class=\"dataframe\">\n",
       "  <thead>\n",
       "    <tr style=\"text-align: right;\">\n",
       "      <th></th>\n",
       "      <th></th>\n",
       "      <th>Contribution Amount</th>\n",
       "      <th>Vote</th>\n",
       "      <th>Count</th>\n",
       "    </tr>\n",
       "    <tr>\n",
       "      <th>Party</th>\n",
       "      <th>Interest Group Position</th>\n",
       "      <th></th>\n",
       "      <th></th>\n",
       "      <th></th>\n",
       "    </tr>\n",
       "  </thead>\n",
       "  <tbody>\n",
       "    <tr>\n",
       "      <th rowspan=\"3\" valign=\"top\">Democrat</th>\n",
       "      <th>Oppose</th>\n",
       "      <td>728088.0</td>\n",
       "      <td>No</td>\n",
       "      <td>87</td>\n",
       "    </tr>\n",
       "    <tr>\n",
       "      <th></th>\n",
       "      <td>0.0</td>\n",
       "      <td>Not Voting</td>\n",
       "      <td>1</td>\n",
       "    </tr>\n",
       "    <tr>\n",
       "      <th>Support</th>\n",
       "      <td>2211410.0</td>\n",
       "      <td>Yes</td>\n",
       "      <td>100</td>\n",
       "    </tr>\n",
       "    <tr>\n",
       "      <th rowspan=\"3\" valign=\"top\">Republican</th>\n",
       "      <th>Oppose</th>\n",
       "      <td>989426.0</td>\n",
       "      <td>No</td>\n",
       "      <td>8</td>\n",
       "    </tr>\n",
       "    <tr>\n",
       "      <th></th>\n",
       "      <td>0.0</td>\n",
       "      <td>Not Voting</td>\n",
       "      <td>7</td>\n",
       "    </tr>\n",
       "    <tr>\n",
       "      <th>Support</th>\n",
       "      <td>3342496.0</td>\n",
       "      <td>Yes</td>\n",
       "      <td>209</td>\n",
       "    </tr>\n",
       "  </tbody>\n",
       "</table>\n",
       "</div>"
      ],
      "text/plain": [
       "                                    Contribution Amount        Vote  Count\n",
       "Party      Interest Group Position                                        \n",
       "Democrat   Oppose                              728088.0          No     87\n",
       "                                                    0.0  Not Voting      1\n",
       "           Support                            2211410.0         Yes    100\n",
       "Republican Oppose                              989426.0          No      8\n",
       "                                                    0.0  Not Voting      7\n",
       "           Support                            3342496.0         Yes    209"
      ]
     },
     "execution_count": 11,
     "metadata": {},
     "output_type": "execute_result"
    }
   ],
   "source": [
    "        df = pd.read_csv(allFiles[1],  encoding='latin-1',low_memory=False)\n",
    "        #print(allFiles[8])\n",
    "        df['Contribution Amount'] = df['Contribution Amount'].str.replace('$','')\n",
    "        #df['Contribution Amount'].str.replace('$','',inplace=True)\n",
    "        df['Contribution Amount'] = df['Contribution Amount'].astype(float)\n",
    "        name = df.columns.values.tolist()\n",
    "        v = name[3]\n",
    "        n = name[-4]\n",
    "        df = df.rename(columns={n: 'Interest Group Position',v:'Vote'})\n",
    "        clean = df.drop(['Represents','Contribution Type','Presidential','Contribution Date','Contributor','Contributor Occupation','Contributor Interest Group Code','Contributor City','Contributor State','Contributor Zip','Contributor Employer','Contributor Interest Group'],axis=1)\n",
    "        g = clean.groupby(['Party','Interest Group Position']).sum()\n",
    "        #h = clean.groupby(['Party','Interest Group Position']).sum()\n",
    "        #g.reset_index(inplace = True)\n",
    "        #g\n",
    "        newclean =  df.drop(['Represents','Contribution Type','Presidential','Contribution Amount','Contribution Date','Contributor','Contributor Occupation','Contributor Interest Group Code','Contributor City','Contributor State','Contributor Zip','Contributor Employer','Contributor Interest Group'],axis=1)\n",
    "        dd = newclean.drop_duplicates(subset=['Legislator', 'Party', 'Vote'])\n",
    "        a = (dd['Party'][dd['Vote']=='No']=='Democrat').sum()\n",
    "        b = (dd['Party'][dd['Vote']=='Not Voting']=='Democrat').sum()\n",
    "        c = (dd['Party'][dd['Vote']=='Yes']=='Democrat').sum()\n",
    "        d = (dd['Party'][dd['Vote']=='No']=='Independent').sum()\n",
    "        e = (dd['Party'][dd['Vote']=='Not Voting']=='Independent').sum()\n",
    "        f = (dd['Party'][dd['Vote']=='Yes']=='Independent').sum()\n",
    "        j = (dd['Party'][dd['Vote']=='No']=='Republican').sum()\n",
    "        k = (dd['Party'][dd['Vote']=='Not Voting']=='Republican').sum()\n",
    "        l = (dd['Party'][dd['Vote']=='Yes']=='Republican').sum()\n",
    "\n",
    "        #dataframe\n",
    "        pd.set_option('display.precision',15)\n",
    "        pd.DataFrame({'x':[.000000000000001]})\n",
    "\n",
    "        arrays = [['Democrat', 'Democrat','Democrat', 'Republican','Republican', 'Republican'],\n",
    "                  ['Oppose','', 'Support', 'Oppose','', 'Support']]\n",
    "        tuples = list(zip(*arrays))\n",
    "        index = pd.MultiIndex.from_tuples(tuples, names=['Party', 'Interest Group Position'])\n",
    "        column = ['Contribution Amount', 'Vote', 'Count']\n",
    "        s = pd.DataFrame(index=index, columns=column)\n",
    "        votes = ['No','Not Voting','Yes','No','Not Voting','Yes']\n",
    "        count = [a,b,c,j,k,l]\n",
    "        s['Vote'] = votes\n",
    "        s['Count'] = count\n",
    "        newframe = s.fillna(g)\n",
    "        effect = newframe.fillna(0)\n",
    "        effect"
   ]
  },
  {
   "cell_type": "code",
   "execution_count": 6,
   "metadata": {},
   "outputs": [
    {
     "name": "stdout",
     "output_type": "stream",
     "text": [
      "1.0\n"
     ]
    }
   ],
   "source": [
    "inf_list = []\n",
    "if a > c:\n",
    "    result = a/(a+c)\n",
    "if a < c:\n",
    "    result = c/(a+c)\n",
    "print (result)\n",
    "inf_list.append(result)"
   ]
  },
  {
   "cell_type": "code",
   "execution_count": 7,
   "metadata": {
    "collapsed": true
   },
   "outputs": [],
   "source": [
    "inf_list = []\n",
    "inf_list.append(result)"
   ]
  },
  {
   "cell_type": "code",
   "execution_count": null,
   "metadata": {
    "collapsed": true
   },
   "outputs": [],
   "source": []
  }
 ],
 "metadata": {
  "kernelspec": {
   "display_name": "Python 3",
   "language": "python",
   "name": "python3"
  },
  "language_info": {
   "codemirror_mode": {
    "name": "ipython",
    "version": 3
   },
   "file_extension": ".py",
   "mimetype": "text/x-python",
   "name": "python",
   "nbconvert_exporter": "python",
   "pygments_lexer": "ipython3",
   "version": "3.6.1"
  }
 },
 "nbformat": 4,
 "nbformat_minor": 2
}
